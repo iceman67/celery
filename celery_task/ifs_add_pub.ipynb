{
 "cells": [
  {
   "cell_type": "markdown",
   "metadata": {},
   "source": [
    "REF\n",
    "https://medium.com/python-pandemonium/getting-started-with-python-and-ipfs-94d14fdffd10\n",
    "\n",
    "Prerequisite\n",
    "\n",
    "1. install ipfs \n",
    "\n",
    "2. start ipfs daemon\n",
    "ipfs daemon"
   ]
  },
  {
   "cell_type": "code",
   "execution_count": 2,
   "metadata": {},
   "outputs": [
    {
     "name": "stderr",
     "output_type": "stream",
     "text": [
      "/Users/Yunhee/opt/anaconda3/lib/python3.7/site-packages/ipykernel_launcher.py:1: FutureWarning: The `ipfsapi` library is deprecated and will stop receiving updates on the 31.12.2019! If you are on Python 3.5+ please enable and fix all Python deprecation warnings (CPython flag `-Wd`) and switch to the new `ipfshttpclient` library name. Python 2.7 and 3.4 will not be supported by the new library, so please upgrade.\n",
      "  \"\"\"Entry point for launching an IPython kernel.\n"
     ]
    }
   ],
   "source": [
    "import ipfsapi"
   ]
  },
  {
   "cell_type": "code",
   "execution_count": 3,
   "metadata": {},
   "outputs": [
    {
     "name": "stdout",
     "output_type": "stream",
     "text": [
      "<ipfsapi.client.Client object at 0x1051c1810>\n"
     ]
    }
   ],
   "source": [
    "if __name__ == '__main__':\n",
    "    # Connect to local node\n",
    "    try:\n",
    "        api = ipfsapi.connect('127.0.0.1', 5001)\n",
    "        print(api)\n",
    "    except ipfsapi.exceptions.ConnectionError as ce:\n",
    "        print(str(ce))"
   ]
  },
  {
   "cell_type": "code",
   "execution_count": 4,
   "metadata": {},
   "outputs": [],
   "source": [
    "new_file = api.add('alice.pub')"
   ]
  },
  {
   "cell_type": "code",
   "execution_count": 5,
   "metadata": {},
   "outputs": [
    {
     "data": {
      "text/plain": [
       "{'Name': 'alice.pub',\n",
       " 'Hash': 'QmaDkRtfSwkAD5MBdVsBhtfcNLmLii8Kp1gKP6NZUC8y92',\n",
       " 'Size': '462'}"
      ]
     },
     "execution_count": 5,
     "metadata": {},
     "output_type": "execute_result"
    }
   ],
   "source": [
    "new_file"
   ]
  },
  {
   "cell_type": "markdown",
   "metadata": {},
   "source": [
    "check the file added into ipfs\n",
    "http://localhost:8080/ipfs/QmaDkRtfSwkAD5MBdVsBhtfcNLmLii8Kp1gKP6NZUC8y92/"
   ]
  },
  {
   "cell_type": "code",
   "execution_count": 7,
   "metadata": {},
   "outputs": [],
   "source": [
    "import requests"
   ]
  },
  {
   "cell_type": "code",
   "execution_count": 8,
   "metadata": {},
   "outputs": [
    {
     "data": {
      "text/plain": [
       "200"
      ]
     },
     "execution_count": 8,
     "metadata": {},
     "output_type": "execute_result"
    }
   ],
   "source": [
    "url = 'http://localhost:8080/ipfs/'+ new_file['Hash']\n",
    "r = requests.get(url)\n",
    "r.status_code\n",
    "\n"
   ]
  },
  {
   "cell_type": "code",
   "execution_count": 9,
   "metadata": {},
   "outputs": [
    {
     "data": {
      "text/plain": [
       "'-----BEGIN PUBLIC KEY-----\\nMIIBIjANBgkqhkiG9w0BAQEFAAOCAQ8AMIIBCgKCAQEAtxk0DsZZfnhrVkr++ITN\\nL+4cO4lfrgM45Am4nKWURm36aJvkhEh/gTmyunYNJ3VjOs24L4df+PS4YwwfqIml\\neRGcwEolh9GxuzlxfEtRsdWVqxa0HmxC0xU5aSVZB0KTgQDTBuT8uI4CrU9gOg1C\\nIp7krOhobgq3i/QMwpfcHw5qqCjHcP7/3jKjTjg/ls7wsYCxwMNLCrekwzhQqRV4\\nMMKm5g/d9G0foCgp37lL7TnCI3oBwb8T2/BzoPNyGEdqbAwweCV0rSzFMQKffVfL\\nIjXdMQ7tibINF3BWCiOXFaZNG7h2SwNCqv8viyN7lVF/ZyIsS16owR94zqP3lXI+\\nTwIDAQAB\\n-----END PUBLIC KEY-----\\n'"
      ]
     },
     "execution_count": 9,
     "metadata": {},
     "output_type": "execute_result"
    }
   ],
   "source": [
    "r.text"
   ]
  }
 ],
 "metadata": {
  "kernelspec": {
   "display_name": "Python 3",
   "language": "python",
   "name": "python3"
  },
  "language_info": {
   "codemirror_mode": {
    "name": "ipython",
    "version": 3
   },
   "file_extension": ".py",
   "mimetype": "text/x-python",
   "name": "python",
   "nbconvert_exporter": "python",
   "pygments_lexer": "ipython3",
   "version": "3.7.4"
  }
 },
 "nbformat": 4,
 "nbformat_minor": 2
}
